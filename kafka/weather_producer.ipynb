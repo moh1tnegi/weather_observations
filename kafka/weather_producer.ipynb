{
 "cells": [
  {
   "metadata": {
    "ExecuteTime": {
     "end_time": "2025-06-20T08:51:28.822455Z",
     "start_time": "2025-06-20T08:51:28.042982Z"
    }
   },
   "cell_type": "code",
   "source": [
    "import requests\n",
    "import json\n",
    "from confluent_kafka import Producer\n",
    "\n",
    "\n",
    "config = {\n",
    "    'bootstrap.servers': 'localhost:9092'\n",
    "}\n",
    "topic = 'weather_obs'\n",
    "producer = Producer(**config)\n",
    "\n",
    "def fetch_weather(api_url):\n",
    "    try:\n",
    "        response = requests.get(api_url, headers=headers, timeout=10)\n",
    "        response.raise_for_status()\n",
    "        return response.json()\n",
    "    except Exception as e:\n",
    "        print(f'Error fetching weather data: {e}')\n",
    "\n",
    "def delivery_report(err, msg):\n",
    "    if err:\n",
    "        print(f'Delivery failed: {err}')\n",
    "    else:\n",
    "        print(f'Delivered to {msg.topic()} [{msg.partition()}] @ offset {msg.offset()}')\n",
    "\n",
    "def stream_weather_data(api_url):\n",
    "    weather_data = fetch_weather(api_url)\n",
    "    if weather_data:\n",
    "        payload = json.dumps(weather_data)\n",
    "        producer.produce(topic, value=payload, callback=delivery_report)\n",
    "        producer.flush()\n",
    "\n",
    "if __name__ == '__main__':\n",
    "    station_id = \"KLAX\"  # LA International Airport\n",
    "    api_url = f\"https://api.weather.gov/stations/{station_id}/observations/latest\"\n",
    "    headers = {'user-agent': 'KafkaProducer notmohitnegi@gmail.com'}\n",
    "    print(f'Starting weather producer for {station_id}')\n",
    "    stream_weather_data(api_url)"
   ],
   "id": "74662315b62cc8ee",
   "outputs": [
    {
     "name": "stdout",
     "output_type": "stream",
     "text": [
      "Starting weather producer for KLAX\n",
      "Delivered to weather_obs [0] @ offset 27\n"
     ]
    }
   ],
   "execution_count": 28
  }
 ],
 "metadata": {
  "kernelspec": {
   "display_name": "Python 3",
   "language": "python",
   "name": "python3"
  },
  "language_info": {
   "codemirror_mode": {
    "name": "ipython",
    "version": 2
   },
   "file_extension": ".py",
   "mimetype": "text/x-python",
   "name": "python",
   "nbconvert_exporter": "python",
   "pygments_lexer": "ipython2",
   "version": "2.7.6"
  }
 },
 "nbformat": 4,
 "nbformat_minor": 5
}
